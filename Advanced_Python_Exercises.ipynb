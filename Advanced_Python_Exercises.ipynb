{
 "cells": [
  {
   "cell_type": "markdown",
   "id": "83ca0c8b",
   "metadata": {},
   "source": [
    "# Advanced Python Exercises"
   ]
  },
  {
   "cell_type": "markdown",
   "id": "63a8de0a",
   "metadata": {},
   "source": [
    "## Welcome to the Advanced Python Exercises!"
   ]
  },
  {
   "cell_type": "markdown",
   "id": "61c47afc",
   "metadata": {},
   "source": [
    "This notebook is designed for students who are already familiar with basic Python programming concepts. It covers more advanced topics, including list comprehensions, decorators, generators, and data manipulation with Pandas and NumPy."
   ]
  },
  {
   "cell_type": "markdown",
   "id": "1d92b79f",
   "metadata": {},
   "source": [
    "### Exercise 1: List Comprehensions with Conditions"
   ]
  },
  {
   "cell_type": "code",
   "execution_count": 1,
   "id": "8bffb215",
   "metadata": {},
   "outputs": [
    {
     "name": "stdout",
     "output_type": "stream",
     "text": [
      "Squares of even numbers: [4, 16, 36, 64, 100, 144, 196, 256, 324, 400]\n",
      "Words that start with 'a': ['apple', 'avocado', 'apricot']\n"
     ]
    }
   ],
   "source": [
    "\n",
    "# List Comprehension with Conditions\n",
    "# TODO: Complete the code below by filling in the missing parts\n",
    "\n",
    "# Step 1: Create a list of squares of even numbers from 1 to 20\n",
    "squares = [x**2 for x in range(1, 21) if x % 2 == 0]\n",
    "\n",
    "# Step 2: Create a list of words that start with the letter 'a'\n",
    "words = [\"apple\", \"banana\", \"avocado\", \"cherry\", \"apricot\"]\n",
    "a_words = [word for word in words if word.startswith('a')]\n",
    "\n",
    "# Step 3: Print the results\n",
    "print(\"Squares of even numbers:\", squares)\n",
    "print(\"Words that start with 'a':\", a_words)\n",
    "        "
   ]
  },
  {
   "cell_type": "markdown",
   "id": "fb82b159",
   "metadata": {},
   "source": [
    "### Exercise 2: Decorators"
   ]
  },
  {
   "cell_type": "code",
   "execution_count": 2,
   "id": "c393ffc8",
   "metadata": {},
   "outputs": [
    {
     "name": "stdout",
     "output_type": "stream",
     "text": [
      "Execution time: 2.86102294921875e-06 seconds\n",
      "Factorial of 10: 3628800\n"
     ]
    }
   ],
   "source": [
    "\n",
    "# Python Decorators\n",
    "# TODO: Complete the code below by filling in the missing parts\n",
    "\n",
    "# Step 1: Define a decorator that logs the execution time of a function\n",
    "import time\n",
    "\n",
    "def timer_decorator(func):\n",
    "    def wrapper(*args, **kwargs):\n",
    "        start_time = time.time()\n",
    "        result = func(*args, **kwargs)\n",
    "        end_time = time.time()\n",
    "        print(f\"Execution time: {end_time - start_time} seconds\")\n",
    "        return result\n",
    "    return wrapper\n",
    "\n",
    "# Step 2: Apply the decorator to a function that calculates the factorial of a number\n",
    "@timer_decorator\n",
    "def factorial(n):\n",
    "    result = 1\n",
    "    for i in range(1, n + 1):\n",
    "        result *= i\n",
    "    return result\n",
    "\n",
    "# Step 3: Test the decorated function\n",
    "print(\"Factorial of 10:\", factorial(10))\n",
    "        "
   ]
  },
  {
   "cell_type": "markdown",
   "id": "c4cd130f",
   "metadata": {},
   "source": [
    "### Exercise 3: Generators"
   ]
  },
  {
   "cell_type": "code",
   "execution_count": 3,
   "id": "5664bc25",
   "metadata": {},
   "outputs": [
    {
     "name": "stdout",
     "output_type": "stream",
     "text": [
      "First 10 Fibonacci numbers:\n",
      "0\n",
      "1\n",
      "1\n",
      "2\n",
      "3\n",
      "5\n",
      "8\n",
      "13\n",
      "21\n",
      "34\n"
     ]
    }
   ],
   "source": [
    "\n",
    "# Python Generators\n",
    "# TODO: Complete the code below by filling in the missing parts\n",
    "\n",
    "# Step 1: Define a generator function that yields the Fibonacci sequence\n",
    "def fibonacci_sequence(n):\n",
    "    a, b = 0, 1\n",
    "    for _ in range(n):\n",
    "        yield a\n",
    "        a, b = b, a + b\n",
    "\n",
    "# Step 2: Use the generator to print the first 10 Fibonacci numbers\n",
    "fib_gen = fibonacci_sequence(10)\n",
    "print(\"First 10 Fibonacci numbers:\")\n",
    "for num in fib_gen:\n",
    "    print(num)\n",
    "        "
   ]
  },
  {
   "cell_type": "markdown",
   "id": "40dbf5a5",
   "metadata": {},
   "source": [
    "### Exercise 4: Advanced NumPy Operations"
   ]
  },
  {
   "cell_type": "code",
   "execution_count": 5,
   "id": "37de765b",
   "metadata": {},
   "outputs": [
    {
     "name": "stdout",
     "output_type": "stream",
     "text": [
      "Collecting numpy\n",
      "  Downloading numpy-2.0.1-cp312-cp312-macosx_14_0_arm64.whl.metadata (60 kB)\n",
      "\u001b[2K     \u001b[90m━━━━━━━━━━━━━━━━━━━━━━━━━━━━━━━━━━━━━━━━\u001b[0m \u001b[32m60.9/60.9 kB\u001b[0m \u001b[31m1.7 MB/s\u001b[0m eta \u001b[36m0:00:00\u001b[0m\n",
      "\u001b[?25hDownloading numpy-2.0.1-cp312-cp312-macosx_14_0_arm64.whl (5.0 MB)\n",
      "\u001b[2K   \u001b[90m━━━━━━━━━━━━━━━━━━━━━━━━━━━━━━━━━━━━━━━━\u001b[0m \u001b[32m5.0/5.0 MB\u001b[0m \u001b[31m32.8 MB/s\u001b[0m eta \u001b[36m0:00:00\u001b[0m00:01\u001b[0m00:01\u001b[0m\n",
      "\u001b[?25hInstalling collected packages: numpy\n",
      "Successfully installed numpy-2.0.1\n",
      "Matrix:\n",
      "[[1 2 3]\n",
      " [4 5 6]\n",
      " [7 8 9]]\n",
      "Determinant: -9.51619735392994e-16\n",
      "Inverse:\n",
      "[[-4.50359963e+15  9.00719925e+15 -4.50359963e+15]\n",
      " [ 9.00719925e+15 -1.80143985e+16  9.00719925e+15]\n",
      " [-4.50359963e+15  9.00719925e+15 -4.50359963e+15]]\n"
     ]
    }
   ],
   "source": [
    "%pip install numpy\n",
    "import numpy as np\n",
    "\n",
    "# Advanced NumPy Operations\n",
    "# TODO: Complete the code below by filling in the missing parts\n",
    "\n",
    "# Step 1: Create a 3x3 matrix with values ranging from 1 to 9\n",
    "matrix = np.arange(1, 10).reshape(3, 3)\n",
    "\n",
    "# Step 2: Calculate the determinant of the matrix\n",
    "determinant = np.linalg.det(matrix)\n",
    "\n",
    "# Step 3: Calculate the inverse of the matrix\n",
    "inverse = np.linalg.inv(matrix)\n",
    "\n",
    "# Step 4: Print the results\n",
    "print(\"Matrix:\")\n",
    "print(matrix)\n",
    "print(\"Determinant:\", determinant)\n",
    "print(\"Inverse:\")\n",
    "print(inverse)\n",
    "        "
   ]
  },
  {
   "cell_type": "markdown",
   "id": "da067c5b",
   "metadata": {},
   "source": [
    "### Exercise 5: Data Analysis with Pandas"
   ]
  },
  {
   "cell_type": "code",
   "execution_count": 6,
   "id": "07b67c15",
   "metadata": {},
   "outputs": [
    {
     "name": "stdout",
     "output_type": "stream",
     "text": [
      "Collecting pandas\n",
      "  Downloading pandas-2.2.2-cp312-cp312-macosx_11_0_arm64.whl.metadata (19 kB)\n",
      "Requirement already satisfied: numpy>=1.26.0 in /Users/tbowman/.ai-navigator/conda/lib/python3.12/site-packages (from pandas) (2.0.1)\n",
      "Requirement already satisfied: python-dateutil>=2.8.2 in /Users/tbowman/.ai-navigator/conda/lib/python3.12/site-packages (from pandas) (2.9.0)\n",
      "Collecting pytz>=2020.1 (from pandas)\n",
      "  Using cached pytz-2024.1-py2.py3-none-any.whl.metadata (22 kB)\n",
      "Collecting tzdata>=2022.7 (from pandas)\n",
      "  Using cached tzdata-2024.1-py2.py3-none-any.whl.metadata (1.4 kB)\n",
      "Requirement already satisfied: six>=1.5 in /Users/tbowman/.ai-navigator/conda/lib/python3.12/site-packages (from python-dateutil>=2.8.2->pandas) (1.16.0)\n",
      "Downloading pandas-2.2.2-cp312-cp312-macosx_11_0_arm64.whl (11.3 MB)\n",
      "\u001b[2K   \u001b[90m━━━━━━━━━━━━━━━━━━━━━━━━━━━━━━━━━━━━━━━━\u001b[0m \u001b[32m11.3/11.3 MB\u001b[0m \u001b[31m51.9 MB/s\u001b[0m eta \u001b[36m0:00:00\u001b[0m00:01\u001b[0m0:01\u001b[0m\n",
      "\u001b[?25hUsing cached pytz-2024.1-py2.py3-none-any.whl (505 kB)\n",
      "Using cached tzdata-2024.1-py2.py3-none-any.whl (345 kB)\n",
      "Installing collected packages: pytz, tzdata, pandas\n",
      "Successfully installed pandas-2.2.2 pytz-2024.1 tzdata-2024.1\n",
      "Note: you may need to restart the kernel to use updated packages.\n",
      "Original DataFrame:\n",
      "    Name  Age  Salary   Bonus\n",
      "0   John   28   50000  5000.0\n",
      "1   Anna   22   54000  5400.0\n",
      "2  Peter   35   58000  5800.0\n",
      "3  Linda   32   62000  6200.0\n",
      "4  James   30   52000  5200.0\n",
      "Filtered DataFrame (Salary > 55000):\n",
      "    Name  Age  Salary   Bonus\n",
      "2  Peter   35   58000  5800.0\n",
      "3  Linda   32   62000  6200.0\n"
     ]
    }
   ],
   "source": [
    "\n",
    "%pip install pandas\n",
    "import pandas as pd\n",
    "\n",
    "# Data Analysis with Pandas\n",
    "# TODO: Complete the code below by filling in the missing parts\n",
    "\n",
    "# Step 1: Create a DataFrame from a dictionary of lists\n",
    "data = {\n",
    "    \"Name\": [\"John\", \"Anna\", \"Peter\", \"Linda\", \"James\"],\n",
    "    \"Age\": [28, 22, 35, 32, 30],\n",
    "    \"Salary\": [50000, 54000, 58000, 62000, 52000]\n",
    "}\n",
    "df = pd.DataFrame(data)\n",
    "\n",
    "# Step 2: Add a new column 'Bonus' that is 10% of the Salary\n",
    "df['Bonus'] = df['Salary'] * 0.1\n",
    "\n",
    "# Step 3: Filter the DataFrame to only include employees with a Salary greater than 55000\n",
    "high_salary_df = df[df['Salary'] > 55000]\n",
    "\n",
    "# Step 4: Print the original DataFrame and the filtered DataFrame\n",
    "print(\"Original DataFrame:\")\n",
    "print(df)\n",
    "print(\"Filtered DataFrame (Salary > 55000):\")\n",
    "print(high_salary_df)\n",
    "        "
   ]
  },
  {
   "cell_type": "markdown",
   "id": "beaa3bcc",
   "metadata": {},
   "source": [
    "### Exercise 6: Handling Missing Data with Pandas"
   ]
  },
  {
   "cell_type": "code",
   "execution_count": 9,
   "id": "92c2a187",
   "metadata": {},
   "outputs": [
    {
     "name": "stdout",
     "output_type": "stream",
     "text": [
      "DataFrame after filling missing values and dropping rows with any missing data:\n",
      "      Name   Age   Salary\n",
      "0    Alice  24.0  50000.0\n",
      "2  Charlie  25.5  58000.0\n",
      "3    David  22.0  62000.0\n",
      "4      Eve  29.0  52000.0\n"
     ]
    },
    {
     "name": "stderr",
     "output_type": "stream",
     "text": [
      "/var/folders/6y/wkyxtwb91ms1vgj1flry6l0hvvkbvq/T/ipykernel_88989/287230391.py:13: FutureWarning: A value is trying to be set on a copy of a DataFrame or Series through chained assignment using an inplace method.\n",
      "The behavior will change in pandas 3.0. This inplace method will never work because the intermediate object on which we are setting values always behaves as a copy.\n",
      "\n",
      "For example, when doing 'df[col].method(value, inplace=True)', try using 'df.method({col: value}, inplace=True)' or df[col] = df[col].method(value) instead, to perform the operation inplace on the original object.\n",
      "\n",
      "\n",
      "  df_nan['Age'].fillna(df_nan['Age'].mean(), inplace=True)\n"
     ]
    }
   ],
   "source": [
    "\n",
    "# Handling Missing Data with Pandas\n",
    "# TODO: Complete the code below by filling in the missing parts\n",
    "\n",
    "# Step 1: Create a DataFrame with missing values\n",
    "data_with_nan = {\n",
    "    \"Name\": [\"Alice\", \"Bob\", \"Charlie\", \"David\", \"Eve\"],\n",
    "    \"Age\": [24, 27, np.nan, 22, 29],\n",
    "    \"Salary\": [50000, np.nan, 58000, 62000, 52000]\n",
    "}\n",
    "df_nan = pd.DataFrame(data_with_nan)\n",
    "\n",
    "# Step 2: Fill the missing values in 'Age' with the mean age\n",
    "df_nan['Age'].fillna(df_nan['Age'].mean(), inplace=True)\n",
    "\n",
    "# Step 3: Drop rows where any value is missing\n",
    "df_cleaned = df_nan.dropna()\n",
    "\n",
    "# Step 4: Print the cleaned DataFrame\n",
    "print(\"DataFrame after filling missing values and dropping rows with any missing data:\")\n",
    "print(df_cleaned)\n",
    "        "
   ]
  },
  {
   "cell_type": "markdown",
   "id": "d3bcd00e",
   "metadata": {},
   "source": [
    "### Wrap-Up"
   ]
  },
  {
   "cell_type": "markdown",
   "id": "8c82a700",
   "metadata": {},
   "source": [
    "Great work! You've completed the advanced Python exercises. These exercises have covered key concepts that will be useful as we move into more complex topics in the workshop."
   ]
  }
 ],
 "metadata": {
  "kernelspec": {
   "display_name": "Python 3",
   "language": "python",
   "name": "python3"
  },
  "language_info": {
   "codemirror_mode": {
    "name": "ipython",
    "version": 3
   },
   "file_extension": ".py",
   "mimetype": "text/x-python",
   "name": "python",
   "nbconvert_exporter": "python",
   "pygments_lexer": "ipython3",
   "version": "3.12.2"
  }
 },
 "nbformat": 4,
 "nbformat_minor": 5
}
