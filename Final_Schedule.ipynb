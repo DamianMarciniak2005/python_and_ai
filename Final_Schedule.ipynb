{
 "cells": [
  {
   "cell_type": "markdown",
   "id": "72867d4a",
   "metadata": {},
   "source": [
    "# AI and LLM with Python Workshop - Overview"
   ]
  },
  {
   "cell_type": "markdown",
   "id": "94c2a70d",
   "metadata": {},
   "source": [
    "## Workshop Schedule and Overview"
   ]
  },
  {
   "cell_type": "markdown",
   "id": "84047582",
   "metadata": {},
   "source": [
    "This notebook provides a detailed overview of the workshop schedule, the rationale behind the topics covered, and the expected outcomes for you by the end of the workshop."
   ]
  },
  {
   "cell_type": "markdown",
   "id": "f0a95433",
   "metadata": {},
   "source": [
    "### Day 1: Python Fundamentals"
   ]
  },
  {
   "cell_type": "markdown",
   "id": "1b7776e0",
   "metadata": {},
   "source": [
    "\n",
    "**Schedule**:\n",
    "| Time | Task |\n",
    "| :--- | :--- |\n",
    "| 9:00 AM - 10:30 AM | Introduction to Python and Basic Arithmetic |\n",
    "| 10:30 AM - 10:45 AM | Break |\n",
    "| 10:45 AM - 11:45 AM | String Manipulation and Basic Data Structures |\n",
    "| 11:45 AM - 1:00 PM | Lunch Break |\n",
    "| 1:00 PM - 2:45 PM | Control Flow and Loops |\n",
    "| 2:45 PM - 3:00 PM | Break |\n",
    "| 3:00 PM - 4:00 PM | Introduction to NumPy and Pandas |\n",
    "\n",
    "**Why We Cover These Topics**:\n",
    "- **Python Fundamentals** are crucial for you to understand the syntax and basic operations of the language. Mastery of these topics ensures that you can comfortably move on to more advanced concepts.\n",
    "- **String Manipulation** and **Data Structures** like lists and dictionaries form the backbone of many programming tasks. Understanding these allows you to handle and process data efficiently.\n",
    "- **Control Flow** structures and **Loops** are essential for decision-making and repetitive tasks, which are common in programming.\n",
    "- **NumPy** and **Pandas** are introduced to give you a glimpse of the powerful tools available for data analysis, which you may use in later days.\n",
    "\n",
    "**Expected Outcomes**:\n",
    "- By the end of Day 1, you should be able to write basic Python scripts that perform calculations, manipulate strings, and process simple data structures. You should also have a foundational understanding of NumPy and Pandas.\n",
    "        "
   ]
  },
  {
   "cell_type": "markdown",
   "id": "b6cb3095",
   "metadata": {},
   "source": [
    "### Day 2: Data Preprocessing and Machine Learning Basics"
   ]
  },
  {
   "cell_type": "markdown",
   "id": "4add052b",
   "metadata": {},
   "source": [
    "\n",
    "**Schedule**:\n",
    "| Time | Task |\n",
    "| :--- | :--- |\n",
    "| 9:00 AM - 10:30 AM | Introduction to Data Preprocessing with Pandas |\n",
    "| 10:30 AM - 10:45 AM | Break |\n",
    "| 10:45 AM - 11:45 AM | Introduction to Machine Learning Concepts |\n",
    "| 11:45 AM - 1:00 PM | Lunch Break |\n",
    "| 1:00 PM - 2:45 PM | Hands-On ML Project (Titanic Dataset) |\n",
    "| 2:45 PM - 3:00 PM | Break |\n",
    "| 3:00 PM - 4:00 PM | Discussion and Q&A |\n",
    "\n",
    "**Why We Cover These Topics**:\n",
    "- **Data Preprocessing** is a critical step in any data analysis or machine learning pipeline. You will learn to clean and prepare data, making it suitable for modeling.\n",
    "- **Machine Learning Basics** introduces you to the concepts and algorithms used to build predictive models. This sets the stage for more advanced machine learning topics.\n",
    "- The **Hands-On ML Project** allows you to apply what they've learned by working on a real-world dataset. This practical experience reinforces theoretical concepts.\n",
    "\n",
    "**Expected Outcomes**:\n",
    "- By the end of Day 2, you should understand the importance of data preprocessing and have a basic understanding of machine learning concepts. You should also have experience working on a machine learning project from start to finish.\n",
    "        "
   ]
  },
  {
   "cell_type": "markdown",
   "id": "8bb0fb0f",
   "metadata": {},
   "source": [
    "### Day 3: Introduction to LangChain, Hugging Face Transformers, and RAG with ChromaDB\n"
   ]
  },
  {
   "cell_type": "markdown",
   "id": "b2ea452f",
   "metadata": {},
   "source": [
    "\n",
    "**Schedule**:\n",
    "| Time | Task |\n",
    "| :--- | :--- |\n",
    "| 9:00 AM - 10:30 AM | Overview of LangChain and Its Applications | \n",
    "| 10:30 AM - 10:45 AM | Break | \n",
    "| 10:45 AM - 11:45 AM | Introduction to Hugging Face Transformers and Integration with LangChain | \n",
    "| 11:45 AM - 1:00 PM | Lunch Break | \n",
    "| 1:00 PM - 2:45 PM | Introduction to ChromaDB and Vector Storage | \n",
    "| 2:45 PM - 3:00 PM | Break | \n",
    "| 3:00 PM - 4:00 PM | Hands-On Project: Building an FAQ Bot with RAG using LangChain and ChromaDB | \n",
    "\n",
    "**Why We Cover These Topics**:\n",
    "- **LangChain** is an emerging framework that simplifies the integration of language models into applications. It is increasingly relevant for those looking to deploy LLMs in real-world scenarios.\n",
    "- The **Hands-On LangChain Projects** provide you with practical experience in using this tool to build LLM-based applications, bridging the gap between theory and practice.\n",
    "\n",
    "**Expected Outcomes**:\n",
    "- By the end of Day 3, you should understand the basics of LangChain, its key components, and how to use it to create simple LLM applications. You should also gain confidence in working with this tool in their projects.\n",
    "        "
   ]
  },
  {
   "cell_type": "markdown",
   "id": "5013a555",
   "metadata": {},
   "source": [
    "### Day 4: AI and Large Language Models (LLMs)"
   ]
  },
  {
   "cell_type": "markdown",
   "id": "ab2fd0cc",
   "metadata": {},
   "source": [
    "\n",
    "**Schedule**:\n",
    "| Time | Task |\n",
    "| :--- | :--- |\n",
    "| 9:00 AM - 10:30 AM | Introduction to AI Concepts and LLMs |\n",
    "| 10:30 AM - 10:45 AM | Break |\n",
    "| 10:45 AM - 11:45 AM | Fine-Tuning vs. Retrieval-Augmented Generation (RAG) |\n",
    "| 11:45 AM - 1:00 PM | Lunch Break |\n",
    "| 1:00 PM - 2:45 PM | Creating a Local LLM with Course Notes |\n",
    "| 2:45 PM - 3:00 PM | Break |\n",
    "| 3:00 PM - 4:00 PM | Discussion on Ethics and Implications of AI |\n",
    "\n",
    "**Why We Cover These Topics**:\n",
    "- **AI Concepts and LLMs** are at the forefront of current technological advancements. Understanding these is crucial for you who want to work in AI or related fields.\n",
    "- **Fine-Tuning vs. RAG** introduces you to different approaches to enhancing LLMs, highlighting the trade-offs and use cases for each method.\n",
    "- The **Local LLM Project** allows you to create their own language model using course notes, making the material highly relevant and personalized.\n",
    "\n",
    "**Expected Outcomes**:\n",
    "- By the end of Day 4, you should have a solid understanding of AI and LLMs, including how to fine-tune models and use retrieval-augmented generation. You should also have hands-on experience creating a language model.\n",
    "        "
   ]
  },
  {
   "cell_type": "markdown",
   "id": "1ad09568",
   "metadata": {},
   "source": [
    "### Day 5: Final Project and Presentation"
   ]
  },
  {
   "cell_type": "markdown",
   "id": "8a36ba46",
   "metadata": {},
   "source": [
    "\n",
    "**Schedule**:\n",
    "| Time | Task |\n",
    "| :--- | :--- |\n",
    "| 9:00 AM - 10:30 AM | Work on Final Project |\n",
    "| 10:30 AM - 10:45 AM | Break |\n",
    "| 10:45 AM - 11:45 AM | Continue Working on Final Project |\n",
    "| 11:45 AM - 1:00 PM | Lunch Break |\n",
    "| 1:00 PM - 2:45 PM | Project Presentations |\n",
    "| 2:45 PM - 3:00 PM | Break |\n",
    "| 3:00 PM - 4:00 PM | Feedback and Workshop Conclusion |\n",
    "\n",
    "**Why We Cover These Topics**:\n",
    "- The **Final Project** allows you to synthesize all the knowledge they have gained throughout the workshop. It encourages you to apply your skills to a problem of your choosing, fostering creativity and problem-solving.\n",
    "- **Presentations** give you the opportunity to share your work with peers and receive feedback, enhancing your communication skills and confidence.\n",
    "\n",
    "**Expected Outcomes**:\n",
    "- By the end of Day 5, you should have completed a significant project that demonstrates your ability to apply Python, machine learning, and AI concepts. You should also feel confident in presenting your work and receiving constructive feedback.\n",
    "        "
   ]
  },
  {
   "cell_type": "markdown",
   "id": "9861f677",
   "metadata": {},
   "source": [
    "## Workshop Goals and Final Outcomes"
   ]
  },
  {
   "cell_type": "markdown",
   "id": "1f261e89",
   "metadata": {},
   "source": [
    "\n",
    "### Goals:\n",
    "- Equip you all with foundational and advanced Python programming skills.\n",
    "- Provide hands-on experience with data analysis, machine learning, and AI tools.\n",
    "- Introduce emerging technologies like LangChain for building LLM applications.\n",
    "- Encourage critical thinking about the ethical implications of AI technologies.\n",
    "- Foster creativity and problem-solving through project-based learning.\n",
    "\n",
    "### Final Outcomes:\n",
    "- You will have completed a comprehensive project demonstrating their skills.\n",
    "- You will understand key Python and AI concepts and be able to apply them to real-world problems.\n",
    "- You will be prepared to continue learning and exploring advanced topics in AI and data science.\n",
    "        "
   ]
  },
  {
   "cell_type": "markdown",
   "id": "55e4b85e",
   "metadata": {},
   "source": []
  }
 ],
 "metadata": {
  "language_info": {
   "name": "python"
  }
 },
 "nbformat": 4,
 "nbformat_minor": 5
}
